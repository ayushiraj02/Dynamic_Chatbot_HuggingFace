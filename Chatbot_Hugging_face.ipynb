{
  "nbformat": 4,
  "nbformat_minor": 0,
  "metadata": {
    "colab": {
      "provenance": [],
      "toc_visible": true,
      "authorship_tag": "ABX9TyMWPZ16xBPsoPe+/WtPetCp"
    },
    "kernelspec": {
      "name": "python3",
      "display_name": "Python 3"
    },
    "language_info": {
      "name": "python"
    }
  },
  "cells": [
    {
      "cell_type": "markdown",
      "source": [
        "#Installation of libraries"
      ],
      "metadata": {
        "id": "Vll4_dwmTIjx"
      }
    },
    {
      "cell_type": "code",
      "execution_count": 1,
      "metadata": {
        "colab": {
          "base_uri": "https://localhost:8080/"
        },
        "id": "7ZsVLbAgOl-L",
        "outputId": "d8479575-3fb5-4fa9-ff6a-5264f8693259"
      },
      "outputs": [
        {
          "output_type": "stream",
          "name": "stdout",
          "text": [
            "Requirement already satisfied: transformers in /usr/local/lib/python3.10/dist-packages (4.42.4)\n",
            "Requirement already satisfied: filelock in /usr/local/lib/python3.10/dist-packages (from transformers) (3.15.4)\n",
            "Requirement already satisfied: huggingface-hub<1.0,>=0.23.2 in /usr/local/lib/python3.10/dist-packages (from transformers) (0.23.5)\n",
            "Requirement already satisfied: numpy<2.0,>=1.17 in /usr/local/lib/python3.10/dist-packages (from transformers) (1.26.4)\n",
            "Requirement already satisfied: packaging>=20.0 in /usr/local/lib/python3.10/dist-packages (from transformers) (24.1)\n",
            "Requirement already satisfied: pyyaml>=5.1 in /usr/local/lib/python3.10/dist-packages (from transformers) (6.0.2)\n",
            "Requirement already satisfied: regex!=2019.12.17 in /usr/local/lib/python3.10/dist-packages (from transformers) (2024.5.15)\n",
            "Requirement already satisfied: requests in /usr/local/lib/python3.10/dist-packages (from transformers) (2.32.3)\n",
            "Requirement already satisfied: safetensors>=0.4.1 in /usr/local/lib/python3.10/dist-packages (from transformers) (0.4.4)\n",
            "Requirement already satisfied: tokenizers<0.20,>=0.19 in /usr/local/lib/python3.10/dist-packages (from transformers) (0.19.1)\n",
            "Requirement already satisfied: tqdm>=4.27 in /usr/local/lib/python3.10/dist-packages (from transformers) (4.66.5)\n",
            "Requirement already satisfied: fsspec>=2023.5.0 in /usr/local/lib/python3.10/dist-packages (from huggingface-hub<1.0,>=0.23.2->transformers) (2024.6.1)\n",
            "Requirement already satisfied: typing-extensions>=3.7.4.3 in /usr/local/lib/python3.10/dist-packages (from huggingface-hub<1.0,>=0.23.2->transformers) (4.12.2)\n",
            "Requirement already satisfied: charset-normalizer<4,>=2 in /usr/local/lib/python3.10/dist-packages (from requests->transformers) (3.3.2)\n",
            "Requirement already satisfied: idna<4,>=2.5 in /usr/local/lib/python3.10/dist-packages (from requests->transformers) (3.7)\n",
            "Requirement already satisfied: urllib3<3,>=1.21.1 in /usr/local/lib/python3.10/dist-packages (from requests->transformers) (2.0.7)\n",
            "Requirement already satisfied: certifi>=2017.4.17 in /usr/local/lib/python3.10/dist-packages (from requests->transformers) (2024.7.4)\n"
          ]
        }
      ],
      "source": [
        "!pip install transformers\n"
      ]
    },
    {
      "cell_type": "code",
      "source": [
        "!pip install huggingface-cli\n",
        "!huggingface-cli login\n"
      ],
      "metadata": {
        "colab": {
          "base_uri": "https://localhost:8080/"
        },
        "id": "b1-eBnfuPoJp",
        "outputId": "368da5ce-50e6-4faf-a500-cbf918970a74"
      },
      "execution_count": null,
      "outputs": [
        {
          "metadata": {
            "tags": null
          },
          "name": "stdout",
          "output_type": "stream",
          "text": [
            "\u001b[31mERROR: Could not find a version that satisfies the requirement huggingface-cli (from versions: none)\u001b[0m\u001b[31m\n",
            "\u001b[0m\u001b[31mERROR: No matching distribution found for huggingface-cli\u001b[0m\u001b[31m\n",
            "\u001b[0m\n",
            "    _|    _|  _|    _|    _|_|_|    _|_|_|  _|_|_|  _|      _|    _|_|_|      _|_|_|_|    _|_|      _|_|_|  _|_|_|_|\n",
            "    _|    _|  _|    _|  _|        _|          _|    _|_|    _|  _|            _|        _|    _|  _|        _|\n",
            "    _|_|_|_|  _|    _|  _|  _|_|  _|  _|_|    _|    _|  _|  _|  _|  _|_|      _|_|_|    _|_|_|_|  _|        _|_|_|\n",
            "    _|    _|  _|    _|  _|    _|  _|    _|    _|    _|    _|_|  _|    _|      _|        _|    _|  _|        _|\n",
            "    _|    _|    _|_|      _|_|_|    _|_|_|  _|_|_|  _|      _|    _|_|_|      _|        _|    _|    _|_|_|  _|_|_|_|\n",
            "\n",
            "    To login, `huggingface_hub` requires a token generated from https://huggingface.co/settings/tokens .\n",
            "Enter your token (input will not be visible): "
          ]
        }
      ]
    },
    {
      "cell_type": "markdown",
      "source": [
        "# Import & demo Implementations"
      ],
      "metadata": {
        "id": "4YMvtlFT_Dmw"
      }
    },
    {
      "cell_type": "code",
      "source": [
        "import requests\n",
        "import time\n",
        "\n",
        "def call_huggingface_endpoint(prompt, api_url, api_token, max_new_tokens, do_sample, temperature, top_p, max_length=512, retries=1, backoff_factor=0.3):\n",
        "    headers = {\n",
        "        \"Authorization\": f\"Bearer {api_token}\",\n",
        "        \"Content-Type\": \"application/json\"\n",
        "    }\n",
        "    data = {\n",
        "        \"inputs\": prompt,\n",
        "        \"parameters\": {\n",
        "            \"max_length\": max_length,\n",
        "            \"max_new_tokens\": max_new_tokens,\n",
        "            \"do_sample\": do_sample,\n",
        "            \"temperature\": temperature,\n",
        "            \"top_p\": top_p,\n",
        "        }\n",
        "    }\n",
        "    for attempt in range(retries):\n",
        "        try:\n",
        "            response = requests.post(api_url, headers=headers, json=data)\n",
        "            response.raise_for_status()\n",
        "            response_text = response.json()[0][\"generated_text\"]\n",
        "            return response_text\n",
        "        except requests.exceptions.RequestException as e:\n",
        "            if attempt < retries - 1:\n",
        "                sleep_time = backoff_factor * (2 ** attempt)\n",
        "                print(f\"Retrying in {sleep_time} seconds...\")\n",
        "                time.sleep(sleep_time)\n",
        "            else:\n",
        "                raise e\n"
      ],
      "metadata": {
        "id": "6z0ZVvimPs8B"
      },
      "execution_count": null,
      "outputs": []
    },
    {
      "cell_type": "code",
      "source": [
        "def fetch_info(response, api_url, api_token):\n",
        "    modelPromptForAppointment = f\"\"\"\n",
        "    system\n",
        "    Extract the following information from {response}: First Name, Last Name, Date Of Birth, Email Address, Phone Number, and Preferred Date Or Time|eot_id|>user\n",
        "    {response}assistant\n",
        "    \"\"\"\n",
        "    try:\n",
        "        fields = ['FirstName', 'LastName', 'DateOfBirth', 'PhoneNumber', 'Email', 'Preferred date or time']\n",
        "        result = call_huggingface_endpoint(modelPromptForAppointment, api_url, api_token, 256, False, 0.1, 0.9)\n",
        "        result = result[len(modelPromptForAppointment):].strip()\n",
        "        info = {}\n",
        "        for line in result.split('\\n'):\n",
        "            if ':' in line:\n",
        "                key, value = line.split(':', 1)\n",
        "                if key.strip() in fields:\n",
        "                    info[key.strip()] = f\"{(value.strip()).replace('na','')}\"\n",
        "        print(info)\n",
        "        return info\n",
        "    except Exception as e:\n",
        "        print(f\"Error extracting information: {e}\")\n",
        "        return {}\n"
      ],
      "metadata": {
        "id": "UrBK1ddjPs-L"
      },
      "execution_count": null,
      "outputs": []
    },
    {
      "cell_type": "markdown",
      "source": [
        "### demo Chatbot"
      ],
      "metadata": {
        "id": "Cdvp3pF--4sw"
      }
    },
    {
      "cell_type": "code",
      "source": [
        "# def chatbot():\n",
        "#     api_url = 'Your Api url'\n",
        "#     api_token = 'your Api token'\n",
        "\n",
        "#     print(\"Chatbot is running. Type 'exit' to end the chat.\")\n",
        "#     while True:\n",
        "#         user_input = input(\"You: \")\n",
        "#         if user_input.lower() in [\"quit\", \"exit\", \"bye\"]:\n",
        "#             print(\"Chat ended.\")\n",
        "#             break\n",
        "\n",
        "#         response = fetch_info(user_input, api_url, api_token)\n",
        "#         print(f\"Chatbot: {response}\")\n",
        "\n",
        "# if __name__ == \"__main__\":\n",
        "#     chatbot()\n"
      ],
      "metadata": {
        "colab": {
          "base_uri": "https://localhost:8080/"
        },
        "id": "Ypak3pDrPtAi",
        "outputId": "aa02f734-7867-466f-cfd6-4b5cf9485a7d"
      },
      "execution_count": null,
      "outputs": [
        {
          "output_type": "stream",
          "name": "stdout",
          "text": [
            "Chatbot is running. Type 'exit' to end the chat.\n",
            "You: hello\n",
            "{}\n",
            "Chatbot: {}\n",
            "You: book appointment\n",
            "{}\n",
            "Chatbot: {}\n",
            "You: my name is Ayushi Raj\n",
            "{}\n",
            "Chatbot: {}\n",
            "You: exit\n",
            "Chat ended.\n"
          ]
        }
      ]
    },
    {
      "cell_type": "markdown",
      "source": [
        "#Final Code For chatbot"
      ],
      "metadata": {
        "id": "EWm9Z5mP-8i1"
      }
    },
    {
      "cell_type": "code",
      "source": [
        "import re\n",
        "import requests\n",
        "import time\n",
        "\n",
        "# Define the Hugging Face API details\n",
        "api_url = 'your api url'\n",
        "hugging_face_api_token = 'your token'\n",
        "\n",
        "def call_huggingface_endpoint(prompt, api_url, api_token, max_new_tokens, do_sample, temperature, top_p, max_length=512, retries=1, backoff_factor=0.3):\n",
        "    headers = {\n",
        "        \"Authorization\": f\"Bearer {api_token}\",\n",
        "        \"Content-Type\": \"application/json\"\n",
        "    }\n",
        "    data = {\n",
        "        \"inputs\": prompt,\n",
        "        \"parameters\": {\n",
        "            \"max_length\": max_length,\n",
        "            \"max_new_tokens\": max_new_tokens,\n",
        "            \"do_sample\": do_sample,\n",
        "            \"temperature\": temperature,\n",
        "            \"top_p\": top_p,\n",
        "        }\n",
        "    }\n",
        "    for attempt in range(retries):\n",
        "        try:\n",
        "            response = requests.post(api_url, headers=headers, json=data)\n",
        "            response.raise_for_status()\n",
        "            response_text = response.json()[0][\"generated_text\"]\n",
        "            return response_text\n",
        "        except requests.exceptions.RequestException as e:\n",
        "            if attempt < retries - 1:\n",
        "                sleep_time = backoff_factor * (2 ** attempt)\n",
        "                time.sleep(sleep_time)\n",
        "            else:\n",
        "                raise e\n",
        "\n",
        "def fetch_info(response):\n",
        "    modelPromptForAppointment = f\"\"\"\n",
        "    Extract the following information from the text: First Name, Last Name, Date Of Birth, Email, Phone Number, and Preferred date or time if available.\n",
        "    User's input: {response}\n",
        "    \"\"\"\n",
        "    try:\n",
        "        result = call_huggingface_endpoint(modelPromptForAppointment, api_url, hugging_face_api_token, 256, False, 0.1, 0.9)\n",
        "        data_dict = {}\n",
        "        for line in result.split('\\n'):\n",
        "            if ':' in line:\n",
        "                pattern = r\"([a-zA-Z\\s]+):\\s*(.+)\"\n",
        "                matches = re.findall(pattern, line)\n",
        "                if matches:\n",
        "                    key, value = matches[0][0].strip(), matches[0][1].strip()\n",
        "                    data_dict[key] = value.replace('(not provided)', '').replace('(Not provided)', '')\n",
        "\n",
        "        # Ensure correct mapping of keys\n",
        "        mapped_dict = {\n",
        "            \"First Name\": data_dict.get(\"First Name\", \"\"),\n",
        "            \"Last Name\": data_dict.get(\"Last Name\", \"\"),\n",
        "            \"Date Of Birth\": data_dict.get(\"Date Of Birth\", \"\"),\n",
        "            \"Email\": data_dict.get(\"Email\", \"\"),\n",
        "            \"Phone Number\": data_dict.get(\"Phone Number\", \"\"),\n",
        "            \"Preferred Date Or Time\": data_dict.get(\"Preferred Date Or Time\", \"\"),\n",
        "        }\n",
        "        return mapped_dict\n",
        "    except Exception as e:\n",
        "        print(f\"Error extracting information: {e}\")\n",
        "        return {}\n",
        "\n",
        "def check_missing_info(info):\n",
        "    required_fields = ['First Name', 'Last Name', 'Date Of Birth', 'Phone Number', 'Email', 'Preferred Date Or Time']\n",
        "    missing_fields = [field for field in required_fields if not info.get(field)]\n",
        "    return missing_fields\n",
        "\n",
        "def handle_booking_request():\n",
        "    print(\"Please provide the following information to book an appointment:\")\n",
        "    print(\"First Name, Last Name, Date Of Birth, Phone Number, Email, Preferred Date and Time\")\n",
        "\n",
        "    user_input = input(\"You: \")\n",
        "    extracted_info = fetch_info(user_input)\n",
        "    missing_fields = check_missing_info(extracted_info)\n",
        "\n",
        "    while missing_fields:\n",
        "        for field in missing_fields:\n",
        "            print(f\"Please provide the {field}:\")\n",
        "            user_input = input(\"You: \")\n",
        "            extracted_info[field] = user_input\n",
        "        missing_fields = check_missing_info(extracted_info)\n",
        "\n",
        "    print(\"All required fields are provided. We are DONE !!!\")\n",
        "    print(\"Your appointment has been booked with the following details:\")\n",
        "    for key, value in extracted_info.items():\n",
        "        print(f\"{key}: {value}\")\n",
        "\n",
        "if __name__ == \"__main__\":\n",
        "    print(\"Chatbot is running. Type 'I want to book an appointment' to start the process or 'exit' to end the chat.\")\n",
        "    while True:\n",
        "        user_input = input(\"You: \")\n",
        "        if user_input.lower() in [\"quit\", \"exit\", \"bye\"]:\n",
        "            print(\"Chat ended.\")\n",
        "            break\n",
        "        elif \"book an appointment\" in user_input.lower():\n",
        "            handle_booking_request()\n",
        "        else:\n",
        "            print(\"To book an appointment, please type: 'I want to book an appointment'\")\n"
      ],
      "metadata": {
        "colab": {
          "base_uri": "https://localhost:8080/"
        },
        "id": "OyIB-757PtNk",
        "outputId": "13a2fc79-fcd4-451c-b9c9-5aa73b7f75ea"
      },
      "execution_count": null,
      "outputs": [
        {
          "output_type": "stream",
          "name": "stdout",
          "text": [
            "Chatbot is running. Type 'I want to book an appointment' to start the process or 'exit' to end the chat.\n",
            "You: book an appointment\n",
            "Please provide the following information to book an appointment:\n",
            "First Name, Last Name, Date Of Birth, Phone Number, Email, Preferred Date and Time\n",
            "You: my name is ayushi raj. my date of birth is 8/01/2003, my contact number is 8235856364, email is abc@gmail.com, i want to book an appointment for 9/01/2023\n",
            "Please provide the Preferred Date Or Time:\n",
            "You: 9 august 2024 3 pm\n",
            "All required fields are provided. We are DONE !!!\n",
            "Your appointment has been booked with the following details:\n",
            "First Name: ayushi\n",
            "Last Name: raj\n",
            "Date Of Birth: 01/08/2003\n",
            "Email: abc@gmail.com\n",
            "Phone Number: 8235856364\n",
            "Preferred Date Or Time: 9 august 2024 3 pm\n",
            "You: 3 pm\n",
            "To book an appointment, please type: 'I want to book an appointment'\n",
            "You: exit\n",
            "Chat ended.\n"
          ]
        }
      ]
    },
    {
      "cell_type": "code",
      "source": [],
      "metadata": {
        "id": "XV-LtRXCPtQG"
      },
      "execution_count": null,
      "outputs": []
    }
  ]
}